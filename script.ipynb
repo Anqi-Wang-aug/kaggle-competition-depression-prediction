{
 "cells": [
  {
   "cell_type": "code",
   "execution_count": null,
   "metadata": {},
   "outputs": [],
   "source": [
    "import numpy as np \n",
    "import pandas as pd\n",
    "from statsmodels.stats.proportion import proportions_ztest\n",
    "from matplotlib import pyplot as plt\n",
    "import seaborn as sns"
   ]
  },
  {
   "cell_type": "markdown",
   "metadata": {},
   "source": [
    "# load the dataset"
   ]
  },
  {
   "cell_type": "code",
   "execution_count": null,
   "metadata": {},
   "outputs": [],
   "source": [
    "de_train = pd.read_csv('train.csv')\n",
    "de_test = pd.read_csv('test.csv')\n",
    "\n",
    "de_train.describe()"
   ]
  },
  {
   "cell_type": "code",
   "execution_count": null,
   "metadata": {},
   "outputs": [],
   "source": [
    "de_test.describe()"
   ]
  },
  {
   "cell_type": "code",
   "execution_count": null,
   "metadata": {},
   "outputs": [],
   "source": [
    "de_train.head(5)"
   ]
  },
  {
   "cell_type": "code",
   "execution_count": null,
   "metadata": {},
   "outputs": [],
   "source": [
    "de_train = de_train.drop(['id'],axis=1)"
   ]
  },
  {
   "cell_type": "markdown",
   "metadata": {},
   "source": [
    "As suggeted in a post on this dataset, the Name columns contain a lot of noise and we may want to drop it."
   ]
  },
  {
   "cell_type": "code",
   "execution_count": null,
   "metadata": {},
   "outputs": [],
   "source": [
    "de_train.drop(columns=['Name'], inplace=True)\n",
    "de_test.drop(columns=['Name'], inplace=True)"
   ]
  },
  {
   "cell_type": "markdown",
   "metadata": {},
   "source": [
    "# Visualize nulls in this dataset"
   ]
  },
  {
   "cell_type": "code",
   "execution_count": null,
   "metadata": {},
   "outputs": [],
   "source": [
    "import missingno"
   ]
  },
  {
   "cell_type": "code",
   "execution_count": null,
   "metadata": {},
   "outputs": [],
   "source": [
    "missingno.matrix(de_train)"
   ]
  },
  {
   "cell_type": "code",
   "execution_count": null,
   "metadata": {},
   "outputs": [],
   "source": [
    "missingno.matrix(de_test)"
   ]
  },
  {
   "cell_type": "code",
   "execution_count": null,
   "metadata": {},
   "outputs": [],
   "source": [
    "missingno.bar(de_train)"
   ]
  },
  {
   "cell_type": "code",
   "execution_count": null,
   "metadata": {},
   "outputs": [],
   "source": [
    "missingno.bar(de_test)"
   ]
  },
  {
   "cell_type": "code",
   "execution_count": null,
   "metadata": {},
   "outputs": [],
   "source": [
    "missingno.heatmap(de_train)"
   ]
  },
  {
   "cell_type": "markdown",
   "metadata": {},
   "source": [
    "It looks like except professions, nulls in other columns have a strong correlationof $\\mid 1\\mid$. This may be due to specific properties in Profession column. Let's take a closer look on distribution of this column. We can see the test has similar null correlations:"
   ]
  },
  {
   "cell_type": "code",
   "execution_count": null,
   "metadata": {},
   "outputs": [],
   "source": [
    "missingno.heatmap(de_test)"
   ]
  },
  {
   "cell_type": "markdown",
   "metadata": {},
   "source": [
    "## Gender columns"
   ]
  },
  {
   "cell_type": "code",
   "execution_count": null,
   "metadata": {},
   "outputs": [],
   "source": [
    "de_train.Gender.unique()"
   ]
  },
  {
   "cell_type": "code",
   "execution_count": null,
   "metadata": {},
   "outputs": [],
   "source": [
    "de_test.Gender.unique()"
   ]
  },
  {
   "cell_type": "code",
   "execution_count": null,
   "metadata": {},
   "outputs": [],
   "source": [
    "gender_tr = de_train.Gender.value_counts()\n",
    "plt.bar(gender_tr.index, gender_tr)"
   ]
  },
  {
   "cell_type": "code",
   "execution_count": null,
   "metadata": {},
   "outputs": [],
   "source": [
    "gender_te = de_test.Gender.value_counts()\n",
    "plt.bar(gender_te.index, gender_te)"
   ]
  },
  {
   "cell_type": "markdown",
   "metadata": {},
   "source": [
    "We can be assured that train and test data have simmilar gender distribution. Now this columns is better to be in true and false."
   ]
  },
  {
   "cell_type": "code",
   "execution_count": null,
   "metadata": {},
   "outputs": [],
   "source": [
    "de_train.Gender = de_train.Gender.map({'Male':True, 'Female':False})\n",
    "de_train = de_train.rename(columns={'Gender':'Is Male'})"
   ]
  },
  {
   "cell_type": "code",
   "execution_count": null,
   "metadata": {},
   "outputs": [],
   "source": [
    "de_train.head(5)"
   ]
  },
  {
   "cell_type": "code",
   "execution_count": null,
   "metadata": {},
   "outputs": [],
   "source": [
    "de_test.Gender = de_test.Gender.map({'Male':True, 'Female':False})\n",
    "de_test = de_test.rename(columns={'Gender':'Is Male'})\n",
    "de_test.head(5)"
   ]
  },
  {
   "cell_type": "code",
   "execution_count": null,
   "metadata": {},
   "outputs": [],
   "source": [
    "male_tr = de_train['Is Male'].value_counts()\n",
    "male_te = de_test['Is Male'].value_counts()\n",
    "count_male = [male_te[0], male_tr[0]]\n",
    "count_n = [de_test.shape[0], de_train.shape[0]]\n",
    "\n",
    "proportions_ztest(count_male, count_n)"
   ]
  },
  {
   "cell_type": "markdown",
   "metadata": {},
   "source": [
    "We can conclude that the distribution of proportionns of gender in train and test are the same"
   ]
  },
  {
   "cell_type": "markdown",
   "metadata": {},
   "source": [
    "## Age"
   ]
  },
  {
   "cell_type": "markdown",
   "metadata": {},
   "source": [
    "We are just going to check if all values in this column is numeric"
   ]
  },
  {
   "cell_type": "code",
   "execution_count": null,
   "metadata": {},
   "outputs": [],
   "source": [
    "from pandas.api.types import is_numeric_dtype\n",
    "is_numeric_dtype(de_train.Age)"
   ]
  },
  {
   "cell_type": "code",
   "execution_count": null,
   "metadata": {},
   "outputs": [],
   "source": [
    "is_numeric_dtype(de_test.Age)"
   ]
  },
  {
   "cell_type": "code",
   "execution_count": null,
   "metadata": {},
   "outputs": [],
   "source": [
    "plt.plot(de_train.Age, de_train.index, '.')"
   ]
  },
  {
   "cell_type": "code",
   "execution_count": null,
   "metadata": {},
   "outputs": [],
   "source": [
    "plt.plot(de_test.Age, de_test.index, '.')"
   ]
  },
  {
   "cell_type": "markdown",
   "metadata": {},
   "source": [
    "In conclusion, the distribution of Age in both sets are also similar: samples are about even in all ages"
   ]
  },
  {
   "cell_type": "markdown",
   "metadata": {},
   "source": [
    "## City\n",
    "The point here is to see if \n",
    "- it's just city names in this column\n",
    "- the distribution of people with respect to cities"
   ]
  },
  {
   "cell_type": "code",
   "execution_count": null,
   "metadata": {},
   "outputs": [],
   "source": [
    "de_train.City.unique()"
   ]
  },
  {
   "cell_type": "code",
   "execution_count": null,
   "metadata": {},
   "outputs": [],
   "source": [
    "de_test.City.unique()"
   ]
  },
  {
   "cell_type": "markdown",
   "metadata": {},
   "source": [
    "So in conclusion, errorneous values in city columns from the train set:\n",
    "- M.Tech\n",
    "- Less Delhi\n",
    "- M.Com\n",
    "- City\n",
    "- 3.0\n",
    "- Less than 5 Kalyan\n",
    "- MCA\n",
    "- MSc\n",
    "- No\n",
    "- ME\n",
    "- Researcher\n",
    "\n",
    "Erroneous values in city columns from the test set:\n",
    "- Less than 5 hours\n",
    "- Lawyer\n",
    "- City\n",
    "- Less Delhi\n",
    "- Is Kanpur\n",
    "- No\n",
    "- Chemist\n",
    "- More Delhi\n",
    "- No.12"
   ]
  },
  {
   "cell_type": "code",
   "execution_count": null,
   "metadata": {},
   "outputs": [],
   "source": [
    "def train_non_loc_2loc_first_step(x):\n",
    "    if x=='Less Delhi' or x=='More Delhi': return 'Delhi'\n",
    "    elif x=='Less than 5 Kalyan': return 'Kalyan'\n",
    "    elif x=='Is Kanpur': return 'Kanpur'\n",
    "    else: return x\n",
    "de_train.City = de_train.City.apply(train_non_loc_2loc_first_step)\n",
    "de_train.City.unique()"
   ]
  },
  {
   "cell_type": "markdown",
   "metadata": {},
   "source": [
    "Erroneous value list on city column from trian set:\n",
    "- M.Tech\n",
    "- ~~Less Delhi~~\n",
    "- M.Com\n",
    "- City\n",
    "- 3.0\n",
    "- ~~Less than 5 Kalyan~~\n",
    "- MCA\n",
    "- MSc\n",
    "- No\n",
    "- ME\n",
    "- Researcher"
   ]
  },
  {
   "cell_type": "code",
   "execution_count": null,
   "metadata": {},
   "outputs": [],
   "source": [
    "error_cities = ['M.Tech', 'M.Com', '3.0', 'MCA', 'MSc', 'No', 'ME', 'Researcher']\n",
    "\n",
    "de_train[de_train.City.isin(error_cities)]"
   ]
  },
  {
   "cell_type": "markdown",
   "metadata": {},
   "source": [
    "It's very lucky that we don't have many of those people hence we only need to fill these with mode"
   ]
  },
  {
   "cell_type": "code",
   "execution_count": null,
   "metadata": {},
   "outputs": [],
   "source": [
    "(de_train.City==de_train.City.mode()[0]).sum()"
   ]
  },
  {
   "cell_type": "code",
   "execution_count": null,
   "metadata": {},
   "outputs": [],
   "source": [
    "de_train.loc[de_train.City.isin(error_cities), 'City'] = de_train.City.mode()[0]\n"
   ]
  },
  {
   "cell_type": "code",
   "execution_count": null,
   "metadata": {},
   "outputs": [],
   "source": [
    "de_train.City.unique()"
   ]
  },
  {
   "cell_type": "code",
   "execution_count": null,
   "metadata": {},
   "outputs": [],
   "source": [
    "de_train[de_train.City=='City']"
   ]
  },
  {
   "cell_type": "code",
   "execution_count": null,
   "metadata": {},
   "outputs": [],
   "source": [
    "de_train.loc[de_train.City=='City', 'City'] = de_train.City.mode()[0]"
   ]
  },
  {
   "cell_type": "code",
   "execution_count": null,
   "metadata": {},
   "outputs": [],
   "source": [
    "de_train.City.unique()"
   ]
  },
  {
   "cell_type": "markdown",
   "metadata": {},
   "source": [
    "Cleaning on `de_train.City` is done! Now we are should work on `de_test.City`\n",
    "\n",
    "Erroneous values in city columns from the test set:\n",
    "- Less than 5 hours\n",
    "- Lawyer\n",
    "- City\n",
    "- Less Delhi\n",
    "- Is Kanpur\n",
    "- No\n",
    "- Chemist\n",
    "- More Delhi\n",
    "- No.12"
   ]
  },
  {
   "cell_type": "code",
   "execution_count": null,
   "metadata": {},
   "outputs": [],
   "source": [
    "de_test.City = de_test.City.apply(train_non_loc_2loc_first_step)\n",
    "de_test.City.unique()"
   ]
  },
  {
   "cell_type": "code",
   "execution_count": null,
   "metadata": {},
   "outputs": [],
   "source": [
    "error_cities = ['Less than 5 hours', 'Lawyer', 'City', 'Less Delhi', 'No', 'Chemist', 'No.12']\n",
    "\n",
    "de_test[de_test.City.isin(error_cities)]"
   ]
  },
  {
   "cell_type": "code",
   "execution_count": null,
   "metadata": {},
   "outputs": [],
   "source": [
    "de_test.City.mode()[0]"
   ]
  },
  {
   "cell_type": "code",
   "execution_count": null,
   "metadata": {},
   "outputs": [],
   "source": [
    "de_test.loc[de_test.City.isin(error_cities), 'City'] = de_test.City.mode()[0]"
   ]
  },
  {
   "cell_type": "code",
   "execution_count": null,
   "metadata": {},
   "outputs": [],
   "source": [
    "de_test.City.unique()"
   ]
  },
  {
   "cell_type": "code",
   "execution_count": null,
   "metadata": {},
   "outputs": [],
   "source": [
    "(de_test.City=='San Vasai-Virar').sum()"
   ]
  },
  {
   "cell_type": "code",
   "execution_count": null,
   "metadata": {},
   "outputs": [],
   "source": [
    "de_test.loc[de_test.City=='San Vasai-Virar', 'City'] = 'Vasai-Virar'"
   ]
  },
  {
   "cell_type": "code",
   "execution_count": null,
   "metadata": {},
   "outputs": [],
   "source": [
    "de_test.City.unique()"
   ]
  },
  {
   "cell_type": "code",
   "execution_count": null,
   "metadata": {},
   "outputs": [],
   "source": [
    "test_city = de_test.City.unique()\n",
    "train_city = de_train.City.unique()"
   ]
  },
  {
   "cell_type": "markdown",
   "metadata": {},
   "source": [
    "list of values in test City but not in train City:"
   ]
  },
  {
   "cell_type": "code",
   "execution_count": null,
   "metadata": {},
   "outputs": [],
   "source": [
    "in_test_not_train = test_city[~np.isin(test_city, train_city)]"
   ]
  },
  {
   "cell_type": "code",
   "execution_count": null,
   "metadata": {},
   "outputs": [],
   "source": [
    "in_test_not_train"
   ]
  },
  {
   "cell_type": "markdown",
   "metadata": {},
   "source": [
    "list of values in train City but not in Test City"
   ]
  },
  {
   "cell_type": "code",
   "execution_count": null,
   "metadata": {},
   "outputs": [],
   "source": [
    "in_train_not_test = train_city[~np.isin(train_city, test_city)]"
   ]
  },
  {
   "cell_type": "code",
   "execution_count": null,
   "metadata": {},
   "outputs": [],
   "source": [
    "in_train_not_test"
   ]
  },
  {
   "cell_type": "code",
   "execution_count": null,
   "metadata": {},
   "outputs": [],
   "source": [
    "de_test[de_test.City.isin(in_test_not_train)].shape"
   ]
  },
  {
   "cell_type": "code",
   "execution_count": null,
   "metadata": {},
   "outputs": [],
   "source": [
    "de_train[de_train.City.isin(in_train_not_test)].shape"
   ]
  },
  {
   "cell_type": "markdown",
   "metadata": {},
   "source": [
    "For now we just map those values as others."
   ]
  },
  {
   "cell_type": "code",
   "execution_count": null,
   "metadata": {},
   "outputs": [],
   "source": [
    "de_train.loc[de_train.City.isin(in_train_not_test), 'City'] = 'Other'"
   ]
  },
  {
   "cell_type": "code",
   "execution_count": null,
   "metadata": {},
   "outputs": [],
   "source": [
    "de_train.City.unique()"
   ]
  },
  {
   "cell_type": "code",
   "execution_count": null,
   "metadata": {},
   "outputs": [],
   "source": [
    "de_test.loc[de_test.City.isin(in_test_not_train), 'City'] = 'Other'\n",
    "de_test.City.unique()"
   ]
  },
  {
   "cell_type": "markdown",
   "metadata": {},
   "source": [
    "Before we continue on, to make better comparisons of cities, we might need to shift cities with lower number of people to others"
   ]
  },
  {
   "cell_type": "code",
   "execution_count": null,
   "metadata": {},
   "outputs": [],
   "source": [
    "small_sample_tr = de_train.City.value_counts()[de_train.City.value_counts()<=10].index\n",
    "small_sample_te = de_test.City.value_counts()[de_test.City.value_counts()<=10].index"
   ]
  },
  {
   "cell_type": "code",
   "execution_count": null,
   "metadata": {},
   "outputs": [],
   "source": [
    "np.setdiff1d(small_sample_tr, small_sample_te)"
   ]
  },
  {
   "cell_type": "code",
   "execution_count": null,
   "metadata": {},
   "outputs": [],
   "source": [
    "de_train.loc[de_train.City.isin(small_sample_tr), 'City'] = 'Other'\n",
    "de_test.loc[de_test.City.isin(small_sample_te), 'City'] = 'Other'"
   ]
  },
  {
   "cell_type": "code",
   "execution_count": null,
   "metadata": {},
   "outputs": [],
   "source": [
    "count_citytr = de_train.City.value_counts()\n",
    "count_cityte = de_test.City.value_counts()\n",
    "count_cityte = count_cityte.loc[count_citytr.index]\n",
    "plt.bar(count_citytr.index, count_citytr)\n",
    "plt.bar(count_citytr.index, count_cityte)\n",
    "_ = plt.xticks(rotation = 90)"
   ]
  },
  {
   "cell_type": "code",
   "execution_count": null,
   "metadata": {},
   "outputs": [],
   "source": [
    "from scipy.stats import ks_2samp\n",
    "ks_2samp(count_citytr, count_cityte)"
   ]
  },
  {
   "cell_type": "markdown",
   "metadata": {},
   "source": [
    "p value is far less than 0.05 (or 0.01), then distributions of samples among cities are likely the same\n",
    "\n",
    "Next question: are there any cities having more people in depression?"
   ]
  },
  {
   "cell_type": "code",
   "execution_count": null,
   "metadata": {},
   "outputs": [],
   "source": [
    "city_vs_depression = de_train.groupby('City').Depression.value_counts().unstack()\n",
    "city_vs_depression"
   ]
  },
  {
   "cell_type": "code",
   "execution_count": null,
   "metadata": {},
   "outputs": [],
   "source": [
    "city_vs_depression_p = de_train.groupby('City').Depression.value_counts(normalize=True).unstack()\n",
    "city_vs_depression_p.plot(kind='bar')"
   ]
  },
  {
   "cell_type": "code",
   "execution_count": null,
   "metadata": {},
   "outputs": [],
   "source": [
    "from scipy.stats import chi2_contingency\n",
    "cities = city_vs_depression.index\n",
    "n_cities = len(cities)\n",
    "disim_matrix = [[0 for i in range(n_cities)] for i in range(n_cities)]\n",
    "\n",
    "for i in range(0, n_cities):\n",
    "    for j in range(i, n_cities):\n",
    "        table = [\n",
    "            city_vs_depression.loc[cities[i]],\n",
    "            city_vs_depression.loc[cities[j]]\n",
    "        ]\n",
    "        _, p_val, _, _ = chi2_contingency(table)\n",
    "        disim_matrix[i][j] = disim_matrix[j][i] = 1-p_val"
   ]
  },
  {
   "cell_type": "code",
   "execution_count": null,
   "metadata": {},
   "outputs": [],
   "source": [
    "from scipy.cluster.hierarchy import linkage, dendrogram\n",
    "\n",
    "city_Z = linkage(disim_matrix, method='ward')\n",
    "\n",
    "_ = dendrogram(city_Z, labels = cities)\n",
    "_ = plt.xticks(rotation=90)\n",
    "plt.axhline(y=1, color='coral', linestyle='--', label='Distance = 1')"
   ]
  },
  {
   "cell_type": "code",
   "execution_count": null,
   "metadata": {},
   "outputs": [],
   "source": [
    "cities"
   ]
  },
  {
   "cell_type": "markdown",
   "metadata": {},
   "source": [
    "We can see some cities are drastically different from the others (and distance between them and other clusters are greater or close to 1):\n",
    "1. Kanpur\n",
    "2. Bhopal\n",
    "3. Thane\n",
    "4. Other\n",
    "5. Vadodara\n",
    "6. Jaipur\n",
    "7. category1: ['Vasai-Virar', 'Kalyan', 'Surat'],\n",
    "8. category2: ['Chennai', 'Ghaziabad', 'Delhi', 'Agra', 'Ludhiana']\n",
    "9. category3: ['Ahmedabad', 'Lucknow', 'Srinagar']\n",
    "10. category4: ['Varanasi', 'Faridabad', 'Nagpur']\n",
    "11. category5: ['Meerut', 'Mumbai']\n",
    "12. category6: ['Patna', 'Indore', 'Pune', 'Nashik', 'Visakhapatnam']\n",
    "13. category7: ['Bangalore', 'Kolkata', 'Rajkot']"
   ]
  },
  {
   "cell_type": "code",
   "execution_count": null,
   "metadata": {},
   "outputs": [],
   "source": [
    "city_cat = [\n",
    "    ['Vasai-Virar', 'Kalyan', 'Surat'],\n",
    "    ['Chennai', 'Ghaziabad', 'Delhi', 'Agra', 'Ludhiana'],\n",
    "    ['Ahmedabad', 'Lucknow', 'Srinagar'], \n",
    "    ['Varanasi', 'Faridabad', 'Nagpur'],\n",
    "    ['Meerut', 'Mumbai'],\n",
    "    ['Patna', 'Indore', 'Pune', 'Nashik', 'Visakhapatnam'],\n",
    "    ['Bangalore', 'Kolkata', 'Rajkot']\n",
    "]\n",
    "\n",
    "for i in range(len(city_cat)):\n",
    "    city = city_cat[i]\n",
    "    de_train.loc[de_train.City.isin(city), 'City'] = 'city'+str(i)\n",
    "de_train.City.value_counts()"
   ]
  },
  {
   "cell_type": "code",
   "execution_count": null,
   "metadata": {},
   "outputs": [],
   "source": [
    "de_train.City = de_train.City.astype('category')"
   ]
  },
  {
   "cell_type": "code",
   "execution_count": null,
   "metadata": {},
   "outputs": [],
   "source": [
    "de_train.columns"
   ]
  },
  {
   "cell_type": "code",
   "execution_count": null,
   "metadata": {},
   "outputs": [],
   "source": [
    "for i in range(len(city_cat)):\n",
    "    city = city_cat[i]\n",
    "    de_test.loc[de_test.City.isin(city), 'City'] = 'city'+str(i)\n",
    "de_test.City.value_counts()"
   ]
  },
  {
   "cell_type": "markdown",
   "metadata": {},
   "source": [
    "# Working professional or student"
   ]
  },
  {
   "cell_type": "code",
   "execution_count": null,
   "metadata": {},
   "outputs": [],
   "source": [
    "de_train['Working Professional or Student'].unique()"
   ]
  },
  {
   "cell_type": "code",
   "execution_count": null,
   "metadata": {},
   "outputs": [],
   "source": [
    "de_test['Working Professional or Student'].unique()"
   ]
  },
  {
   "cell_type": "markdown",
   "metadata": {},
   "source": [
    "Glad that those two columns don't have value errors. "
   ]
  },
  {
   "cell_type": "code",
   "execution_count": null,
   "metadata": {},
   "outputs": [],
   "source": [
    "count_str = de_train['Working Professional or Student'].value_counts()\n",
    "count_ste = de_test['Working Professional or Student'].value_counts()"
   ]
  },
  {
   "cell_type": "code",
   "execution_count": null,
   "metadata": {},
   "outputs": [],
   "source": [
    "count_str"
   ]
  },
  {
   "cell_type": "code",
   "execution_count": null,
   "metadata": {},
   "outputs": [],
   "source": [
    "count_ste"
   ]
  },
  {
   "cell_type": "code",
   "execution_count": null,
   "metadata": {},
   "outputs": [],
   "source": [
    "count_student = [count_str[1], count_ste[1]]\n",
    "n_both = [de_train.shape[0], de_test.shape[0]]\n",
    "\n",
    "proportions_ztest(count_student, n_both)"
   ]
  },
  {
   "cell_type": "code",
   "execution_count": null,
   "metadata": {},
   "outputs": [],
   "source": [
    "table = [\n",
    "    [count_str[0], count_str[1]],\n",
    "    [count_ste[0], count_ste[1]]\n",
    "]\n",
    "chi2_contingency(table)"
   ]
  },
  {
   "cell_type": "markdown",
   "metadata": {},
   "source": [
    "We can conclude that train and test have similar distributions on this column as p value is large\n",
    "\n",
    "It's tempting at this moment to see if student and working professionals have the same distribution on depression counts"
   ]
  },
  {
   "cell_type": "code",
   "execution_count": null,
   "metadata": {},
   "outputs": [],
   "source": [
    "# split working_tr and student_tr by 'working professional or studnet' column\n",
    "working_tr = de_train[de_train['Working Professional or Student']=='Working Professional']\n",
    "student_tr = de_train[de_train['Working Professional or Student']=='Student']"
   ]
  },
  {
   "cell_type": "code",
   "execution_count": null,
   "metadata": {},
   "outputs": [],
   "source": [
    "count_depress_working_tr = working_tr['Depression'].value_counts()\n",
    "count_depress_student_tr = student_tr['Depression'].value_counts()\n"
   ]
  },
  {
   "cell_type": "code",
   "execution_count": null,
   "metadata": {},
   "outputs": [],
   "source": [
    "count_depress_student_tr"
   ]
  },
  {
   "cell_type": "code",
   "execution_count": null,
   "metadata": {},
   "outputs": [],
   "source": [
    "count_depress_working_tr"
   ]
  },
  {
   "cell_type": "markdown",
   "metadata": {},
   "source": [
    "There's no need to use test to tell if the distributions are different, but still use it at the best:"
   ]
  },
  {
   "cell_type": "code",
   "execution_count": null,
   "metadata": {},
   "outputs": [],
   "source": [
    "table_depress = [\n",
    "    [count_depress_student_tr[0], count_depress_student_tr[1]],\n",
    "    [count_depress_working_tr[0], count_depress_working_tr[1]]\n",
    "]\n",
    "\n",
    "chi2_contingency(table_depress)"
   ]
  },
  {
   "cell_type": "markdown",
   "metadata": {},
   "source": [
    "It's clear that student and non-students have different depression distribution"
   ]
  },
  {
   "cell_type": "code",
   "execution_count": null,
   "metadata": {},
   "outputs": [],
   "source": [
    "working_tr = working_tr.drop(columns= ['Academic Pressure', 'CGPA', 'Study Satisfaction', 'Working Professional or Student'],\n",
    "                             axis=1)\n",
    "working_tr.rename(columns={'Work/Study Hours':'Work Hours'}, inplace=True)\n",
    "working_tr.columns"
   ]
  },
  {
   "cell_type": "code",
   "execution_count": null,
   "metadata": {},
   "outputs": [],
   "source": [
    "student_tr = student_tr.drop(columns = ['Profession', 'Work Pressure', 'Job Satisfaction', 'Working Professional or Student'], axis=1)\n",
    "student_tr.rename(columns={'Work/Study Hours':'Study Hours'}, inplace=True)\n",
    "student_tr.columns"
   ]
  },
  {
   "cell_type": "markdown",
   "metadata": {},
   "source": [
    "And do the same thing on test set"
   ]
  },
  {
   "cell_type": "code",
   "execution_count": null,
   "metadata": {},
   "outputs": [],
   "source": [
    "working_te = de_test[de_test['Working Professional or Student']=='Working Professional']\n",
    "student_te = de_test[de_test['Working Professional or Student']=='Student']"
   ]
  },
  {
   "cell_type": "code",
   "execution_count": null,
   "metadata": {},
   "outputs": [],
   "source": [
    "working_te = working_te.drop(columns= ['Academic Pressure', 'CGPA', 'Study Satisfaction', 'Working Professional or Student'],\n",
    "                             axis=1)\n",
    "working_te.rename(columns={'Work/Study Hours':'Work Hours'}, inplace=True)\n",
    "working_te.columns"
   ]
  },
  {
   "cell_type": "code",
   "execution_count": null,
   "metadata": {},
   "outputs": [],
   "source": [
    "student_te = student_te.drop(columns = ['Profession', 'Work Pressure', 'Job Satisfaction', 'Working Professional or Student'], axis=1)\n",
    "student_te.rename(columns={'Work/Study Hours':'Study Hours'}, inplace=True)\n",
    "student_te.columns"
   ]
  },
  {
   "cell_type": "markdown",
   "metadata": {},
   "source": [
    "## Working Professional: Profession"
   ]
  },
  {
   "cell_type": "code",
   "execution_count": null,
   "metadata": {},
   "outputs": [],
   "source": [
    "working_tr.Profession.unique()"
   ]
  },
  {
   "cell_type": "markdown",
   "metadata": {},
   "source": [
    "Error values in Profession:\n",
    "1. nan\n",
    "2. 'B.Com', \n",
    "3. 'BE', \n",
    "4. 'Student', \n",
    "5. 'Yogesh', \n",
    "6. 'Dev',\n",
    "7. 'MBA', \n",
    "8. 'LLM', \n",
    "9. 'BCA', \n",
    "10. 'Academic', \n",
    "11. 'Profession'\n",
    "12. 'BBA'\n",
    "13. 'Working Professional'\n",
    "14. 'MBBS'\n",
    "15. 'Patna', \n",
    "16. 'Unveil', \n",
    "17. 'B.Ed', \n",
    "18. 'Nagpur', \n",
    "19. 'Moderate', \n",
    "20. 'M.Ed',\n",
    "21. 'Analyst', \n",
    "22. 'Pranav', \n",
    "23. 'Visakhapatnam', \n",
    "24. 'PhD', \n",
    "25. 'Yuvraj'\n",
    "\n",
    "Several questions:\n",
    "1. Does nan mean unemployed? Can they have similar distributions of data?\n",
    "2. What about other error values? Are they also unemployed or random?"
   ]
  },
  {
   "cell_type": "code",
   "execution_count": null,
   "metadata": {},
   "outputs": [],
   "source": [
    "unemployed = working_tr[working_tr.Profession=='Unemployed']"
   ]
  },
  {
   "cell_type": "code",
   "execution_count": null,
   "metadata": {},
   "outputs": [],
   "source": [
    "unemployed"
   ]
  },
  {
   "cell_type": "code",
   "execution_count": null,
   "metadata": {},
   "outputs": [],
   "source": [
    "unemployed"
   ]
  },
  {
   "cell_type": "code",
   "execution_count": null,
   "metadata": {},
   "outputs": [],
   "source": [
    "unfilled = working_tr[working_tr.Profession.isnull()]"
   ]
  },
  {
   "cell_type": "code",
   "execution_count": null,
   "metadata": {},
   "outputs": [],
   "source": [
    "unemployed['Work Hours']"
   ]
  },
  {
   "cell_type": "code",
   "execution_count": null,
   "metadata": {},
   "outputs": [],
   "source": [
    "unfilled['Work Hours']"
   ]
  },
  {
   "cell_type": "code",
   "execution_count": null,
   "metadata": {},
   "outputs": [],
   "source": [
    "ks_2samp(unemployed['Work Hours'], unfilled['Work Hours'])"
   ]
  },
  {
   "cell_type": "code",
   "execution_count": null,
   "metadata": {},
   "outputs": [],
   "source": [
    "unfilled.columns"
   ]
  },
  {
   "cell_type": "code",
   "execution_count": null,
   "metadata": {},
   "outputs": [],
   "source": [
    "unfilled.Age.describe()"
   ]
  },
  {
   "cell_type": "code",
   "execution_count": null,
   "metadata": {},
   "outputs": [],
   "source": [
    "error_value = ['Yogesh', 'Dev', 'Profession','Working Professional', 'Patna', 'Unveil',  'Nagpur', 'Moderate', \n",
    "                'Pranav', 'Visakhapatnam',  'Yuvraj']\n",
    "error_profession = working_tr[working_tr.Profession.isin(error_value)]\n",
    "student_value = ['B.Com', 'BE', 'Student', 'MBA', 'LLM', 'BCA', 'Academic',\n",
    "                'BBA', 'MBBS', 'B.Ed', 'M.Ed','PhD']\n",
    "student_profession = working_tr[working_tr.Profession.isin(student_value)]"
   ]
  },
  {
   "cell_type": "code",
   "execution_count": null,
   "metadata": {},
   "outputs": [],
   "source": [
    "prop_unfill = unfilled.Depression.value_counts(normalize=True)\n",
    "prop_error = error_profession.Depression.value_counts(normalize=True)\n",
    "prop_student = student_profession.Depression.value_counts(normalize=True)\n",
    "prop_student[1] = 0\n",
    "compare = pd.DataFrame({'depress in unfill':prop_unfill.values, 'depress in error':prop_error.values, \n",
    "                        'depress in student':prop_student.values})\n",
    "compare.plot(kind='bar')"
   ]
  },
  {
   "cell_type": "code",
   "execution_count": null,
   "metadata": {},
   "outputs": [],
   "source": [
    "working_tr.loc[error_profession.index, 'Profession'] = 'Unemployed'\n",
    "working_tr.loc[student_profession.index, 'Profession'] = 'Unemployed'\n",
    "working_tr.Profession.fillna('Unemployed', inplace=True)\n",
    "working_tr.Profession.unique()"
   ]
  },
  {
   "cell_type": "markdown",
   "metadata": {},
   "source": [
    "The p value is large, and we can conclude that Researchers, Chemist and Data Scientist have similar depression distribution"
   ]
  },
  {
   "cell_type": "code",
   "execution_count": null,
   "metadata": {},
   "outputs": [],
   "source": [
    "working_tr.loc[working_tr.Profession=='Medical Doctor', 'Profession'] = 'Doctor'\n",
    "working_tr.loc[working_tr.Profession=='Family Consultant', 'Profession'] = 'Consultant'\n",
    "working_tr.loc[working_tr.Profession=='FamilyVirar', 'Profession'] = 'Unemployed'\n",
    "working_tr.loc[working_tr.Profession=='City Manager', 'Profession'] = 'Manager'\n",
    "\n",
    "working_tr.loc[working_tr.Profession=='Travel Consultant', 'Profession'] = 'Consultant'\n",
    "working_tr.loc[working_tr.Profession=='Finanancial Analyst', 'Profession'] = 'Financial Analyst'"
   ]
  },
  {
   "cell_type": "code",
   "execution_count": null,
   "metadata": {},
   "outputs": [],
   "source": [
    "working_tr.loc[working_tr.Profession=='Analyst', 'Profession'] = 'Business Analyst'"
   ]
  },
  {
   "cell_type": "code",
   "execution_count": null,
   "metadata": {},
   "outputs": [],
   "source": [
    "profession_count = working_tr.Profession.value_counts()\n",
    "profession_count"
   ]
  },
  {
   "cell_type": "code",
   "execution_count": null,
   "metadata": {},
   "outputs": [],
   "source": [
    "depression_vs_profession = working_tr.groupby(\"Profession\").Depression.value_counts(normalize=True).unstack()"
   ]
  },
  {
   "cell_type": "code",
   "execution_count": null,
   "metadata": {},
   "outputs": [],
   "source": [
    "p_depressed = working_tr.Depression.value_counts(normalize=True)[1]\n",
    "depression_vs_profession[1].plot(kind='bar')\n",
    "plt.title('Depression Ratio in Professions')\n",
    "plt.axhline(y=p, color='coral', linestyle='--')"
   ]
  },
  {
   "cell_type": "code",
   "execution_count": null,
   "metadata": {},
   "outputs": [],
   "source": [
    "depression_vs_profession = working_tr.groupby(\"Profession\").Depression.value_counts().unstack()\n",
    "jobs = depression_vs_profession.index\n",
    "matrix = [[0 for i in range(len(jobs))] for i in range(len(jobs))]\n",
    "for i in range(0, len(jobs)):\n",
    "    for j in range(0, len(jobs)):\n",
    "        table = [\n",
    "            depression_vs_profession.loc[jobs[i]].values,\n",
    "            depression_vs_profession.loc[jobs[j]].values\n",
    "        ]\n",
    "        _, p_val, _, _ = chi2_contingency(table)\n",
    "        matrix[i][j] = 1-p_val\n",
    "        matrix[j][i] = 1-p_val"
   ]
  },
  {
   "cell_type": "code",
   "execution_count": null,
   "metadata": {},
   "outputs": [],
   "source": [
    "from scipy.cluster.hierarchy import linkage, dendrogram\n",
    "\n",
    "Z = linkage(matrix, method='ward')\n",
    "_ = dendrogram(Z, labels=jobs, leaf_rotation=90)\n",
    "plt.axhline(y=1, color='coral', linestyle='--', label='Distance = 1')"
   ]
  },
  {
   "cell_type": "code",
   "execution_count": null,
   "metadata": {},
   "outputs": [],
   "source": [
    "len(working_tr.Profession.unique())"
   ]
  },
  {
   "cell_type": "markdown",
   "metadata": {},
   "source": [
    "It's very obvious that Grphic Designer and Unemployed are drastically different from other occupations in terms of depression distribution, thus, we should divide it into:\n",
    "\n",
    "1. Graphic Designer\n",
    "2. Unemployed\n",
    "3. Investment Banker\n",
    "4. job category1: ['Business Analyst', 'Teacher'], \n",
    "5. job category2: ['Doctor', 'Marketing Manager', 'Pilot']\n",
    "6. job category3: ['Electrician', 'Researcher', 'UX/UI Designer']\n",
    "7. job category4: ['Customer Support', 'Digital Marketer']\n",
    "8. job category5: ['Consultant', 'Chef', 'Sales Executive']\n",
    "9. job category6: ['HR Manager', 'Judge']\n",
    "10. job category7: ['Architect', 'Mechanical Engineer']\n",
    "11. job category8: ['Chemist', 'Pharmacist']\n",
    "12. job category9: ['Content Writer', 'Entrepreneur'],\n",
    "13. job category10: ['Financial Analyst', 'Accountant', 'Plumber', 'Research Analyst', 'Software Engineer']\n",
    "14. job category11: ['Data Scientist', 'Civil Engineer', 'Manager']\n",
    "15. job category12: ['Educational Consultant', 'Lawyer']"
   ]
  },
  {
   "cell_type": "code",
   "execution_count": null,
   "metadata": {},
   "outputs": [],
   "source": [
    "job_cat = [\n",
    "    ['Business Analyst', 'Teacher'], \n",
    "    ['Doctor', 'Marketing Manager', 'Pilot'],\n",
    "    ['Electrician', 'Researcher', 'UX/UI Designer'],\n",
    "    ['Customer Support', 'Digital Marketer'],\n",
    "    ['Consultant', 'Chef', 'Sales Executive'],\n",
    "    ['HR Manager', 'Judge'],\n",
    "    ['Architect', 'Mechanical Engineer'],\n",
    "    ['Chemist', 'Pharmacist'],\n",
    "    ['Content Writer', 'Entrepreneur'],\n",
    "    ['Financial Analyst', 'Accountant', 'Plumber', 'Research Analyst', 'Software Engineer'],\n",
    "    ['Data Scientist', 'Civil Engineer', 'Manager'],\n",
    "    ['Educational Consultant', 'Lawyer']\n",
    "]\n",
    "\n",
    "for i in range(0, len(job_cat)):\n",
    "    jobs = job_cat[i]\n",
    "    working_tr.loc[working_tr.Profession.isin(jobs), 'Profession'] = 'job'+str(i)\n",
    "\n",
    "working_tr.Profession.value_counts()\n"
   ]
  },
  {
   "cell_type": "code",
   "execution_count": null,
   "metadata": {},
   "outputs": [],
   "source": [
    "working_te.Profession.unique()"
   ]
  },
  {
   "cell_type": "code",
   "execution_count": null,
   "metadata": {},
   "outputs": [],
   "source": [
    "working_te.loc[working_te.Profession=='Surgeon', 'Profession'] = 'Doctor'"
   ]
  },
  {
   "cell_type": "code",
   "execution_count": null,
   "metadata": {},
   "outputs": [],
   "source": [
    "might_be_unemployed = ['B.Ed', 'Student', 'Working Professional', 'ME', 'B.Pharm', '24th', 'Manvi', 'Yogesh',\n",
    "                       'Samar', 'Surat', 'PhD', 'M.Ed', 'MD', 'Name', 'MCA', 'Simran','Profession', 'Unhealthy',\n",
    "                       'BBA', 'LLM', 'No', 'Unveil', 'M.Pharm']\n",
    "working_te.loc[working_te.Profession.isin(might_be_unemployed), 'Profession'] = 'Unemployed'"
   ]
  },
  {
   "cell_type": "code",
   "execution_count": null,
   "metadata": {},
   "outputs": [],
   "source": [
    "working_te.Profession.fillna('Unemployed', inplace=True)"
   ]
  },
  {
   "cell_type": "code",
   "execution_count": null,
   "metadata": {},
   "outputs": [],
   "source": [
    "working_te.loc[working_te.Profession=='Analyst', 'Profession'] = 'Financial Analyst'\n",
    "working_te.loc[working_te.Profession=='City Consultant', 'Profession'] = 'Consultant'\n",
    "working_te.loc[working_te.Profession=='Travel Consultant', 'Profession'] = 'Consultant'\n",
    "working_te.loc[working_te.Profession=='Finanancial Analyst', 'Profession'] = 'Financial Analyst'\n",
    "\n",
    "for i in range(0, len(job_cat)):\n",
    "    jobs = job_cat[i]\n",
    "    working_te.loc[working_te.Profession.isin(jobs), 'Profession'] = 'job'+str(i)\n",
    "\n",
    "working_te.Profession.value_counts()"
   ]
  },
  {
   "cell_type": "code",
   "execution_count": null,
   "metadata": {},
   "outputs": [],
   "source": [
    "working_tr.Profession = working_tr.Profession.astype('category')\n",
    "working_te.Profession = working_te.Profession.astype('category')"
   ]
  },
  {
   "cell_type": "markdown",
   "metadata": {},
   "source": [
    "## Working Professional: Work Pressure, work hours and job satisfaction\n",
    "\n",
    "We should consider that if work pressure relate to work hours"
   ]
  },
  {
   "cell_type": "code",
   "execution_count": null,
   "metadata": {},
   "outputs": [],
   "source": [
    "working_tr[working_tr['Work Pressure'].isnull()]"
   ]
  },
  {
   "cell_type": "code",
   "execution_count": null,
   "metadata": {},
   "outputs": [],
   "source": [
    "sns.violinplot(working_tr['Work Pressure'])"
   ]
  },
  {
   "cell_type": "code",
   "execution_count": null,
   "metadata": {},
   "outputs": [],
   "source": [
    "import math\n",
    "\n",
    "mean_pressure = math.ceil(working_tr['Work Pressure'].mean())\n",
    "working_tr['Work Pressure'].fillna(mean_pressure, inplace=True)"
   ]
  },
  {
   "cell_type": "code",
   "execution_count": null,
   "metadata": {},
   "outputs": [],
   "source": [
    "pressure_vs_depression"
   ]
  },
  {
   "cell_type": "code",
   "execution_count": null,
   "metadata": {},
   "outputs": [],
   "source": [
    "pressure_vs_depression = working_tr.groupby('Work Pressure').Depression.value_counts().unstack()\n",
    "pressure_level = pressure_vs_depression.index\n",
    "for i in range(0, 4):\n",
    "    for j in range(i+1, 5):\n",
    "       table = [\n",
    "        pressure_vs_depression.loc[pressure_level[i]],\n",
    "        pressure_vs_depression.loc[pressure_level[j]]\n",
    "       ]\n",
    "       _, p_val, _, _ = chi2_contingency(table)\n",
    "       print(\"pressure: {}, {}, p_val: {}\".format(pressure_level[i], pressure_level[j], p_val))"
   ]
  },
  {
   "cell_type": "markdown",
   "metadata": {},
   "source": [
    "We can conclude that the distribution of each pressure levels are distinct, making it a good predictor on depression"
   ]
  },
  {
   "cell_type": "code",
   "execution_count": null,
   "metadata": {},
   "outputs": [],
   "source": [
    "#fill null to test data\n",
    "mean_pressure = math.ceil(working_te['Work Pressure'].mean())\n",
    "working_te['Work Pressure'].fillna(mean_pressure, inplace=True)"
   ]
  },
  {
   "cell_type": "code",
   "execution_count": null,
   "metadata": {},
   "outputs": [],
   "source": [
    "working_tr['Work Pressure'] = working_tr['Work Pressure'].astype('category')\n",
    "working_te['Work Pressure'] = working_te['Work Pressure'].astype('category')"
   ]
  },
  {
   "cell_type": "code",
   "execution_count": null,
   "metadata": {},
   "outputs": [],
   "source": [
    "working_tr['Work Hours'].isnull().sum()"
   ]
  },
  {
   "cell_type": "code",
   "execution_count": null,
   "metadata": {},
   "outputs": [],
   "source": [
    "working_tr['Work Hours'].describe()"
   ]
  },
  {
   "cell_type": "code",
   "execution_count": null,
   "metadata": {},
   "outputs": [],
   "source": [
    "depression_vs_work_hr = working_tr.groupby('Work Hours').Depression.value_counts(normalize=True).unstack()"
   ]
  },
  {
   "cell_type": "code",
   "execution_count": null,
   "metadata": {},
   "outputs": [],
   "source": [
    "depression_vs_work_hr.plot(kind='bar')"
   ]
  },
  {
   "cell_type": "code",
   "execution_count": null,
   "metadata": {},
   "outputs": [],
   "source": [
    "depression_vs_work_hr = working_tr.groupby('Work Hours').Depression.value_counts().unstack()\n",
    "hours = depression_vs_work_hr.index\n",
    "n = 13\n",
    "disim_matrix = [[0 for i in range(n)] for j in range(n)]\n",
    "\n",
    "for i in range(0, n):\n",
    "    for j in range(i, n):\n",
    "        table = [\n",
    "            depression_vs_work_hr.loc[hours[i]],\n",
    "            depression_vs_work_hr.loc[hours[j]]\n",
    "        ]\n",
    "        _, p_val, _, _ = chi2_contingency(table)\n",
    "        disim_matrix[i][j] = disim_matrix[j][i] = 1-p_val \n",
    "\n",
    "link_matrix = linkage(disim_matrix, method='ward')\n",
    "_ = dendrogram(link_matrix, labels=hours, leaf_rotation=90)\n",
    "plt.axhline(y=1, color='coral', linestyle='--')"
   ]
  },
  {
   "cell_type": "code",
   "execution_count": null,
   "metadata": {},
   "outputs": [],
   "source": [
    "working_tr['Heavy_overtime'] = working_tr['Work Hours']>9\n",
    "working_te['Heavy_overtime'] = working_te['Work Hours']>9"
   ]
  },
  {
   "cell_type": "code",
   "execution_count": null,
   "metadata": {},
   "outputs": [],
   "source": [
    "overtime_table = working_tr.groupby('Heavy_overtime').Depression.value_counts().unstack()\n",
    "chi2_contingency(overtime_table)"
   ]
  },
  {
   "cell_type": "code",
   "execution_count": null,
   "metadata": {},
   "outputs": [],
   "source": [
    "hours_cat = [\n",
    "    [10.0, 12.0],\n",
    "    [4.0, 5.0],\n",
    "    [2.0, 3.0],\n",
    "    [0.0, 1.0],\n",
    "    [7.0, 8.0]\n",
    "]\n",
    "\n",
    "for i in range(len(hours_cat)):\n",
    "    hour = hours_cat[i]\n",
    "    working_tr.loc[working_tr['Work Hours'].isin(hour), 'Work Hours'] = 'time_zone'+str(i)\n",
    "working_tr['Work Hours'].value_counts()"
   ]
  },
  {
   "cell_type": "code",
   "execution_count": null,
   "metadata": {},
   "outputs": [],
   "source": [
    "working_tr['Work Hours'] = working_tr['Work Hours'].astype('category')"
   ]
  },
  {
   "cell_type": "code",
   "execution_count": null,
   "metadata": {},
   "outputs": [],
   "source": [
    "for i in range(len(hours_cat)):\n",
    "    hour = hours_cat[i]\n",
    "    working_te.loc[working_te['Work Hours'].isin(hour), 'Work Hours'] = 'time_zone'+str(i)\n",
    "working_te['Work Hours'].value_counts()"
   ]
  },
  {
   "cell_type": "code",
   "execution_count": null,
   "metadata": {},
   "outputs": [],
   "source": [
    "working_te['Work Hours'] = working_te['Work Hours'].astype('category')"
   ]
  },
  {
   "cell_type": "code",
   "execution_count": null,
   "metadata": {},
   "outputs": [],
   "source": [
    "working_tr['Job Satisfaction'].isnull().sum()"
   ]
  },
  {
   "cell_type": "code",
   "execution_count": null,
   "metadata": {},
   "outputs": [],
   "source": [
    "working_tr['Job Satisfaction'].describe()"
   ]
  },
  {
   "cell_type": "code",
   "execution_count": null,
   "metadata": {},
   "outputs": [],
   "source": [
    "m = working_tr['Job Satisfaction'].mode()[0]\n",
    "working_tr['Job Satisfaction'].fillna(m, inplace=True)"
   ]
  },
  {
   "cell_type": "code",
   "execution_count": null,
   "metadata": {},
   "outputs": [],
   "source": [
    "working_tr.groupby('Job Satisfaction').Depression.value_counts(normalize=True).unstack().plot(kind='bar')"
   ]
  },
  {
   "cell_type": "code",
   "execution_count": null,
   "metadata": {},
   "outputs": [],
   "source": [
    "depression_vs_js = working_tr.groupby('Job Satisfaction').Depression.value_counts().unstack()\n",
    "js = depression_vs_js.index\n",
    "n = 5\n",
    "disim_matrix = [[0 for i in range(n)] for j in range(n)]\n",
    "\n",
    "for i in range(0, n):\n",
    "    for j in range(i, n):\n",
    "        table = [\n",
    "            depression_vs_js.loc[js[i]],\n",
    "            depression_vs_js.loc[js[j]]\n",
    "        ]\n",
    "        _, p_val, _, _ = chi2_contingency(table)\n",
    "        disim_matrix[i][j] = disim_matrix[j][i] = 1-p_val \n",
    "\n",
    "link_matrix = linkage(disim_matrix, method='ward')\n",
    "_ = dendrogram(link_matrix, labels=js, leaf_rotation=90)\n",
    "plt.axhline(y=1, color='coral', linestyle='--')"
   ]
  },
  {
   "cell_type": "code",
   "execution_count": null,
   "metadata": {},
   "outputs": [],
   "source": [
    "working_tr.loc[working_tr['Job Satisfaction']==5, 'Job Satisfaction'] = 4"
   ]
  },
  {
   "cell_type": "code",
   "execution_count": null,
   "metadata": {},
   "outputs": [],
   "source": [
    "working_te['Job Satisfaction'].describe()"
   ]
  },
  {
   "cell_type": "code",
   "execution_count": null,
   "metadata": {},
   "outputs": [],
   "source": [
    "m = working_te['Job Satisfaction'].mode()\n",
    "working_te['Job Satisfaction'].fillna(m, inplace=True)"
   ]
  },
  {
   "cell_type": "code",
   "execution_count": null,
   "metadata": {},
   "outputs": [],
   "source": [
    "working_te.loc[working_te['Job Satisfaction']==5, 'Job Satisfaction'] = 4"
   ]
  },
  {
   "cell_type": "code",
   "execution_count": null,
   "metadata": {},
   "outputs": [],
   "source": [
    "working_tr['Job Satisfaction'] = working_tr['Job Satisfaction'].astype('category')\n",
    "working_te['Job Satisfaction'] = working_te['Job Satisfaction'].astype('category')"
   ]
  },
  {
   "cell_type": "code",
   "execution_count": null,
   "metadata": {},
   "outputs": [],
   "source": [
    "working_tr.columns"
   ]
  },
  {
   "cell_type": "markdown",
   "metadata": {},
   "source": [
    "## Working Professionals: Sleep Duration"
   ]
  },
  {
   "cell_type": "code",
   "execution_count": null,
   "metadata": {},
   "outputs": [],
   "source": [
    "working_tr['Sleep Duration'].value_counts()"
   ]
  },
  {
   "cell_type": "code",
   "execution_count": null,
   "metadata": {},
   "outputs": [],
   "source": [
    "normalized = ['Less than 5 hours','5-6 hours', '7-8 hours', 'More than 8 hours']\n",
    "\n",
    "working_tr[working_tr['Sleep Duration'].isin(normalized)].groupby('Sleep Duration').Depression.value_counts(normalize=True).unstack()"
   ]
  },
  {
   "cell_type": "code",
   "execution_count": null,
   "metadata": {},
   "outputs": [],
   "source": [
    "working_tr[~working_tr['Sleep Duration'].isin(normalized)].Depression.value_counts(normalize=True)"
   ]
  },
  {
   "cell_type": "code",
   "execution_count": null,
   "metadata": {},
   "outputs": [],
   "source": [
    "normal_sleep = working_tr[working_tr['Sleep Duration'].isin(normalized)]\n",
    "sns.violinplot(x='Sleep Duration', y = 'Age', data=normal_sleep)"
   ]
  },
  {
   "cell_type": "code",
   "execution_count": null,
   "metadata": {},
   "outputs": [],
   "source": [
    "working_tr.loc[~working_tr['Sleep Duration'].isin(normalized), 'Sleep Duration'] = 'Other'"
   ]
  },
  {
   "cell_type": "code",
   "execution_count": null,
   "metadata": {},
   "outputs": [],
   "source": [
    "working_tr['Unhealthy Sleep'] = working_tr['Sleep Duration'].isin(['Less than 5 hours'])"
   ]
  },
  {
   "cell_type": "code",
   "execution_count": null,
   "metadata": {},
   "outputs": [],
   "source": [
    "sleep_table = working_tr.groupby('Unhealthy Sleep').Depression.value_counts().unstack()"
   ]
  },
  {
   "cell_type": "code",
   "execution_count": null,
   "metadata": {},
   "outputs": [],
   "source": [
    "chi2_contingency(sleep_table)"
   ]
  },
  {
   "cell_type": "code",
   "execution_count": null,
   "metadata": {},
   "outputs": [],
   "source": [
    "sleep_table"
   ]
  },
  {
   "cell_type": "code",
   "execution_count": null,
   "metadata": {},
   "outputs": [],
   "source": [
    "working_tr.drop(columns='Sleep Duration', axis=1, inplace=True)\n",
    "working_tr.columns"
   ]
  },
  {
   "cell_type": "code",
   "execution_count": null,
   "metadata": {},
   "outputs": [],
   "source": [
    "working_te['Unhealthy Sleep']= working_te['Sleep Duration']=='Less than 5 hours'\n",
    "working_te.drop(columns='Sleep Duration', axis=1, inplace=True)\n",
    "working_te.columns"
   ]
  },
  {
   "cell_type": "markdown",
   "metadata": {},
   "source": [
    "## Working Profession: Dietary Habits"
   ]
  },
  {
   "cell_type": "code",
   "execution_count": null,
   "metadata": {},
   "outputs": [],
   "source": [
    "working_tr['Dietary Habits'].value_counts()"
   ]
  },
  {
   "cell_type": "code",
   "execution_count": null,
   "metadata": {},
   "outputs": [],
   "source": [
    "working_tr['Dietary Habits'].isnull().sum()"
   ]
  },
  {
   "cell_type": "code",
   "execution_count": null,
   "metadata": {},
   "outputs": [],
   "source": [
    "diet_mode = working_tr['Dietary Habits'].mode()[0]\n",
    "working_tr['Dietary Habits'].fillna(diet_mode,inplace=True)\n",
    "\n",
    "normalized = ['Moderate', 'Healthy', 'Unhealthy']\n",
    "working_tr.loc[~working_tr['Dietary Habits'].isin(normalized), 'Dietary Habits'] = diet_mode"
   ]
  },
  {
   "cell_type": "code",
   "execution_count": null,
   "metadata": {},
   "outputs": [],
   "source": [
    "depression_vs_diet = working_tr.groupby('Dietary Habits').Depression.value_counts().unstack()\n",
    "diet = depression_vs_diet.index\n",
    "n = len(diet)\n",
    "disim_matrix = [[0 for i in range(n)] for j in range(n)]\n",
    "\n",
    "for i in range(0, n):\n",
    "    for j in range(i, n):\n",
    "        table = [\n",
    "            depression_vs_diet.loc[diet[i]],\n",
    "            depression_vs_diet.loc[diet[j]]\n",
    "        ]\n",
    "        _, p_val, _, _ = chi2_contingency(table)\n",
    "        disim_matrix[i][j] = disim_matrix[j][i] = 1-p_val \n",
    "\n",
    "link_matrix = linkage(disim_matrix, method='ward')\n",
    "_ = dendrogram(link_matrix, labels=diet, leaf_rotation=90)\n",
    "plt.axhline(y=1, color='coral', linestyle='--')"
   ]
  },
  {
   "cell_type": "code",
   "execution_count": null,
   "metadata": {},
   "outputs": [],
   "source": [
    "working_tr['Dietary Habits'] = working_tr['Dietary Habits'].astype('category')"
   ]
  },
  {
   "cell_type": "code",
   "execution_count": null,
   "metadata": {},
   "outputs": [],
   "source": [
    "working_te['Dietary Habits'].value_counts()"
   ]
  },
  {
   "cell_type": "code",
   "execution_count": null,
   "metadata": {},
   "outputs": [],
   "source": [
    "diet_mode = working_te['Dietary Habits'].mode()[0]\n",
    "working_te.loc[~working_te['Dietary Habits'].isin(normalized), 'Dietary Habits'] = diet_mode\n",
    "working_te['Dietary Habits'] = working_te['Dietary Habits'].astype('category')\n",
    "working_te['Dietary Habits'].value_counts()"
   ]
  },
  {
   "cell_type": "markdown",
   "metadata": {},
   "source": [
    "### Working Profession: Degree\n",
    "\n",
    "We shall just drop this column as it's a bit messy. "
   ]
  },
  {
   "cell_type": "code",
   "execution_count": null,
   "metadata": {},
   "outputs": [],
   "source": [
    "working_tr.drop(columns='Degree', inplace=True)\n",
    "working_te.drop(columns='Degree', inplace=True)\n",
    "\n",
    "working_tr.columns"
   ]
  },
  {
   "cell_type": "code",
   "execution_count": null,
   "metadata": {},
   "outputs": [],
   "source": [
    "working_te.columns"
   ]
  },
  {
   "cell_type": "markdown",
   "metadata": {},
   "source": [
    "### Working Profession: suicidial thoughts"
   ]
  },
  {
   "cell_type": "code",
   "execution_count": null,
   "metadata": {},
   "outputs": [],
   "source": [
    "working_tr['Have you ever had suicidal thoughts ?'].unique()"
   ]
  },
  {
   "cell_type": "markdown",
   "metadata": {},
   "source": [
    "Should just mark it into true and false"
   ]
  },
  {
   "cell_type": "code",
   "execution_count": null,
   "metadata": {},
   "outputs": [],
   "source": [
    "working_tr['Have you ever had suicidal thoughts ?'] = working_tr['Have you ever had suicidal thoughts ?'].map({'No': False, 'Yes': True})"
   ]
  },
  {
   "cell_type": "code",
   "execution_count": null,
   "metadata": {},
   "outputs": [],
   "source": [
    "working_te['Have you ever had suicidal thoughts ?'] = working_te['Have you ever had suicidal thoughts ?'].map({'No': False, 'Yes': True})"
   ]
  },
  {
   "cell_type": "code",
   "execution_count": null,
   "metadata": {},
   "outputs": [],
   "source": [
    "working_tr.columns"
   ]
  },
  {
   "cell_type": "markdown",
   "metadata": {},
   "source": [
    "## Working Profession: Financial stress"
   ]
  },
  {
   "cell_type": "code",
   "execution_count": null,
   "metadata": {},
   "outputs": [],
   "source": [
    "working_tr['Financial Stress'].value_counts()"
   ]
  },
  {
   "cell_type": "code",
   "execution_count": null,
   "metadata": {},
   "outputs": [],
   "source": [
    "working_tr['Financial Stress'].isnull().sum()"
   ]
  },
  {
   "cell_type": "code",
   "execution_count": null,
   "metadata": {},
   "outputs": [],
   "source": [
    "working_tr['Financial Stress'].fillna(working_tr['Financial Stress'].mode()[0], inplace=True)"
   ]
  },
  {
   "cell_type": "code",
   "execution_count": null,
   "metadata": {},
   "outputs": [],
   "source": [
    "working_tr.groupby('Financial Stress').Depression.value_counts(normalize=True).unstack()"
   ]
  },
  {
   "cell_type": "code",
   "execution_count": null,
   "metadata": {},
   "outputs": [],
   "source": [
    "depression_vs_finance = working_tr.groupby('Financial Stress').Depression.value_counts().unstack()\n",
    "finan = depression_vs_finance.index\n",
    "n = len(finan)\n",
    "disim_matrix = [[0 for i in range(n)] for j in range(n)]\n",
    "\n",
    "for i in range(0, n):\n",
    "    for j in range(i, n):\n",
    "        table = [\n",
    "            depression_vs_finance.loc[finan[i]],\n",
    "            depression_vs_finance.loc[finan[j]]\n",
    "        ]\n",
    "        _, p_val, _, _ = chi2_contingency(table)\n",
    "        disim_matrix[i][j] = disim_matrix[j][i] = 1-p_val \n",
    "\n",
    "link_matrix = linkage(disim_matrix, method='ward')\n",
    "_ = dendrogram(link_matrix, labels=finan, leaf_rotation=90)\n",
    "plt.axhline(y=1, color='coral', linestyle='--')"
   ]
  },
  {
   "cell_type": "code",
   "execution_count": null,
   "metadata": {},
   "outputs": [],
   "source": [
    "working_tr['Financial Stress'] = working_tr['Financial Stress'].astype('category')"
   ]
  },
  {
   "cell_type": "code",
   "execution_count": null,
   "metadata": {},
   "outputs": [],
   "source": [
    "working_te['Financial Stress'].isnull().sum()"
   ]
  },
  {
   "cell_type": "code",
   "execution_count": null,
   "metadata": {},
   "outputs": [],
   "source": [
    "working_te['Financial Stress'].value_counts()"
   ]
  },
  {
   "cell_type": "code",
   "execution_count": null,
   "metadata": {},
   "outputs": [],
   "source": [
    "working_te['Financial Stress'] = working_te['Financial Stress'].astype('category')"
   ]
  },
  {
   "cell_type": "markdown",
   "metadata": {},
   "source": [
    "## Working professional: Family history"
   ]
  },
  {
   "cell_type": "code",
   "execution_count": null,
   "metadata": {},
   "outputs": [],
   "source": [
    "working_tr['Family History of Mental Illness'].unique()"
   ]
  },
  {
   "cell_type": "code",
   "execution_count": null,
   "metadata": {},
   "outputs": [],
   "source": [
    "working_te['Family History of Mental Illness'].unique()"
   ]
  },
  {
   "cell_type": "code",
   "execution_count": null,
   "metadata": {},
   "outputs": [],
   "source": [
    "working_tr['Family History of Mental Illness'] = working_tr['Family History of Mental Illness'].map({'No': False, 'Yes': True})\n",
    "working_te['Family History of Mental Illness'] = working_te['Family History of Mental Illness'].map({'No': False, 'Yes': True})"
   ]
  },
  {
   "cell_type": "markdown",
   "metadata": {},
   "source": [
    "## Working Professional: Summary"
   ]
  },
  {
   "cell_type": "code",
   "execution_count": null,
   "metadata": {},
   "outputs": [],
   "source": [
    "working_tr.info()"
   ]
  },
  {
   "cell_type": "code",
   "execution_count": null,
   "metadata": {},
   "outputs": [],
   "source": [
    "working_te.info()"
   ]
  },
  {
   "cell_type": "markdown",
   "metadata": {},
   "source": [
    "# Baseline Model on non-student dataset"
   ]
  },
  {
   "cell_type": "code",
   "execution_count": null,
   "metadata": {},
   "outputs": [],
   "source": [
    "from sklearn.linear_model import LogisticRegression\n",
    "from sklearn.model_selection import train_test_split, cross_val_score\n",
    "from sklearn.metrics import roc_auc_score"
   ]
  },
  {
   "cell_type": "code",
   "execution_count": null,
   "metadata": {},
   "outputs": [],
   "source": [
    "y = working_tr.pop('Depression')\n",
    "X = working_tr"
   ]
  },
  {
   "cell_type": "code",
   "execution_count": null,
   "metadata": {},
   "outputs": [],
   "source": [
    "X = pd.get_dummies(X, drop_first=True)"
   ]
  },
  {
   "cell_type": "code",
   "execution_count": null,
   "metadata": {},
   "outputs": [],
   "source": [
    "model_reg = LogisticRegression(max_iter=1000)\n",
    "scores = cross_val_score(model_reg, X, y, cv=10, scoring='roc_auc')"
   ]
  },
  {
   "cell_type": "code",
   "execution_count": null,
   "metadata": {},
   "outputs": [],
   "source": [
    "print('roc auc scores in 10 cv: {}'.format(scores))\n",
    "print('mean roc auc scores in 10 cv: {}'.format(np.mean(scores)))"
   ]
  },
  {
   "cell_type": "markdown",
   "metadata": {},
   "source": [
    "Our roc_auc looks good. Now let's just predict on the non-student test dataset"
   ]
  },
  {
   "cell_type": "code",
   "execution_count": null,
   "metadata": {},
   "outputs": [],
   "source": [
    "working_id = working_te.pop('id')"
   ]
  },
  {
   "cell_type": "code",
   "execution_count": null,
   "metadata": {},
   "outputs": [],
   "source": [
    "working_te = pd.get_dummies(working_te, drop_first=True)"
   ]
  },
  {
   "cell_type": "code",
   "execution_count": null,
   "metadata": {},
   "outputs": [],
   "source": [
    "model_reg.fit(X, y)\n",
    "working_pred = model_reg.predict(working_te)"
   ]
  },
  {
   "cell_type": "code",
   "execution_count": null,
   "metadata": {},
   "outputs": [],
   "source": [
    "result = {'id': working_id, 'Depression': working_pred}"
   ]
  },
  {
   "cell_type": "markdown",
   "metadata": {},
   "source": [
    "# Student: Overview\n",
    "\n",
    "Now let's move on to student dataset"
   ]
  },
  {
   "cell_type": "code",
   "execution_count": null,
   "metadata": {},
   "outputs": [],
   "source": [
    "student_tr.info()"
   ]
  },
  {
   "cell_type": "code",
   "execution_count": null,
   "metadata": {},
   "outputs": [],
   "source": [
    "student_te.info()"
   ]
  },
  {
   "cell_type": "code",
   "execution_count": null,
   "metadata": {},
   "outputs": [],
   "source": [
    "missingno.bar(student_tr)"
   ]
  },
  {
   "cell_type": "code",
   "execution_count": null,
   "metadata": {},
   "outputs": [],
   "source": [
    "missingno.bar(student_te)"
   ]
  },
  {
   "cell_type": "markdown",
   "metadata": {},
   "source": [
    "## Student: Academic Pressure"
   ]
  },
  {
   "cell_type": "code",
   "execution_count": null,
   "metadata": {},
   "outputs": [],
   "source": [
    "student_tr['Academic Pressure'].isnull().sum()"
   ]
  },
  {
   "cell_type": "code",
   "execution_count": null,
   "metadata": {},
   "outputs": [],
   "source": [
    "student_tr['Academic Pressure'].value_counts()"
   ]
  },
  {
   "cell_type": "code",
   "execution_count": null,
   "metadata": {},
   "outputs": [],
   "source": [
    "p_mode_tr = student_tr['Academic Pressure'].mode()\n",
    "student_tr['Academic Pressure'].fillna(p_mode_tr, inplace=True)"
   ]
  },
  {
   "cell_type": "code",
   "execution_count": null,
   "metadata": {},
   "outputs": [],
   "source": [
    "depression_vs_a_pressure = student_tr.groupby('Academic Pressure').Depression.value_counts(normalize=True).unstack()\n",
    "depression_vs_a_pressure"
   ]
  },
  {
   "cell_type": "markdown",
   "metadata": {},
   "source": [
    "There's no need for more stats test anymore. It's bright clear that academic pressure and depression is related."
   ]
  },
  {
   "cell_type": "code",
   "execution_count": null,
   "metadata": {},
   "outputs": [],
   "source": [
    "student_tr['Academic Pressure'] = student_tr['Academic Pressure'].astype('category')"
   ]
  },
  {
   "cell_type": "code",
   "execution_count": null,
   "metadata": {},
   "outputs": [],
   "source": [
    "p_mode_te = student_te['Academic Pressure'].mode()\n",
    "student_te['Academic Pressure'].fillna(p_mode_te, inplace=True)"
   ]
  },
  {
   "cell_type": "code",
   "execution_count": null,
   "metadata": {},
   "outputs": [],
   "source": [
    "student_te['Academic Pressure'] = student_te['Academic Pressure'].astype('category')"
   ]
  },
  {
   "cell_type": "markdown",
   "metadata": {},
   "source": [
    "## Student: CGPA"
   ]
  },
  {
   "cell_type": "code",
   "execution_count": null,
   "metadata": {},
   "outputs": [],
   "source": [
    "student_tr['CGPA'].unique()"
   ]
  },
  {
   "cell_type": "code",
   "execution_count": null,
   "metadata": {},
   "outputs": [],
   "source": [
    "mean_tr = student_tr['CGPA'].mean()\n",
    "student_tr['CGPA'].fillna(mean_tr, inplace=True)"
   ]
  },
  {
   "cell_type": "code",
   "execution_count": null,
   "metadata": {},
   "outputs": [],
   "source": [
    "mean_te = student_te['CGPA'].mean()\n",
    "student_te['CGPA'].fillna(mean_te, inplace=True)"
   ]
  },
  {
   "cell_type": "code",
   "execution_count": null,
   "metadata": {},
   "outputs": [],
   "source": [
    "ks_2samp(student_tr.CGPA, student_te.CGPA)"
   ]
  },
  {
   "cell_type": "markdown",
   "metadata": {},
   "source": [
    "p value is high, then we conclude that CGPA distribution in train and test are the same"
   ]
  },
  {
   "cell_type": "code",
   "execution_count": null,
   "metadata": {},
   "outputs": [],
   "source": [
    "cgpa = pd.DataFrame({\n",
    "    'train': student_tr['CGPA'],\n",
    "    'test': student_te['CGPA']\n",
    "})\n",
    "sns.violinplot(cgpa)"
   ]
  },
  {
   "cell_type": "markdown",
   "metadata": {},
   "source": [
    "Just out of curiousty only, we want to see CGPA's effect on depression."
   ]
  },
  {
   "cell_type": "code",
   "execution_count": null,
   "metadata": {},
   "outputs": [],
   "source": [
    "cgpa_depress = student_tr.loc[student_tr['Depression']==1, 'CGPA']\n",
    "cgpa_not_depress = student_tr.loc[student_tr['Depression']==0, 'CGPA']\n",
    "\n",
    "ks_2samp(cgpa_depress, cgpa_not_depress)"
   ]
  },
  {
   "cell_type": "markdown",
   "metadata": {},
   "source": [
    "the p value is small, meaning this might be a strong predictor."
   ]
  },
  {
   "cell_type": "markdown",
   "metadata": {},
   "source": [
    "## Student: Study Satisfaction"
   ]
  },
  {
   "cell_type": "code",
   "execution_count": null,
   "metadata": {},
   "outputs": [],
   "source": [
    "student_tr['Study Satisfaction'].unique()"
   ]
  },
  {
   "cell_type": "code",
   "execution_count": null,
   "metadata": {},
   "outputs": [],
   "source": [
    "student_tr['Study Satisfaction'].value_counts()"
   ]
  },
  {
   "cell_type": "code",
   "execution_count": null,
   "metadata": {},
   "outputs": [],
   "source": [
    "student_tr['Study Satisfaction'].isnull().sum()"
   ]
  },
  {
   "cell_type": "code",
   "execution_count": null,
   "metadata": {},
   "outputs": [],
   "source": [
    "mode = student_tr['Study Satisfaction'].mode()\n",
    "student_tr['Study Satisfaction'].fillna(mode, inplace=True)"
   ]
  },
  {
   "cell_type": "code",
   "execution_count": null,
   "metadata": {},
   "outputs": [],
   "source": [
    "mode = student_te['Study Satisfaction'].mode()\n",
    "student_te['Study Satisfaction'].fillna(mode, inplace=True)"
   ]
  },
  {
   "cell_type": "code",
   "execution_count": null,
   "metadata": {},
   "outputs": [],
   "source": [
    "depression_vs_ss = student_tr.groupby('Study Satisfaction').Depression.value_counts(normalize=True).unstack()"
   ]
  },
  {
   "cell_type": "code",
   "execution_count": null,
   "metadata": {},
   "outputs": [],
   "source": [
    "depression_vs_ss"
   ]
  },
  {
   "cell_type": "markdown",
   "metadata": {},
   "source": [
    "Still worth to take a look into similarity"
   ]
  },
  {
   "cell_type": "code",
   "execution_count": null,
   "metadata": {},
   "outputs": [],
   "source": [
    "depression_vs_ss = student_tr.groupby('Study Satisfaction').Depression.value_counts().unstack()\n",
    "ss = depression_vs_ss.index\n",
    "n = len(ss)\n",
    "disim_matrix = [[0 for i in range(n)] for j in range(n)]\n",
    "\n",
    "for i in range(0, n):\n",
    "    for j in range(i, n):\n",
    "        table = [\n",
    "            depression_vs_ss.loc[ss[i]],\n",
    "            depression_vs_ss.loc[ss[j]]\n",
    "        ]\n",
    "        _, p_val, _, _ = chi2_contingency(table)\n",
    "        disim_matrix[i][j] = disim_matrix[j][i] = 1-p_val \n",
    "\n",
    "link_matrix = linkage(disim_matrix, method='ward')\n",
    "_ = dendrogram(link_matrix, labels=ss, leaf_rotation=90)\n",
    "plt.axhline(y=1, color='coral', linestyle='--')"
   ]
  },
  {
   "cell_type": "code",
   "execution_count": null,
   "metadata": {},
   "outputs": [],
   "source": [
    "student_tr['Study Satisfaction'] = student_tr['Study Satisfaction'].astype('category')\n",
    "student_te['Study Satisfaction'] = student_te['Study Satisfaction'].astype('category')"
   ]
  },
  {
   "cell_type": "markdown",
   "metadata": {},
   "source": [
    "## Student Train: Sleep Duration"
   ]
  },
  {
   "cell_type": "code",
   "execution_count": null,
   "metadata": {},
   "outputs": [],
   "source": [
    "student_tr['Sleep Duration'].unique()"
   ]
  },
  {
   "cell_type": "code",
   "execution_count": null,
   "metadata": {},
   "outputs": [],
   "source": [
    "student_tr['Sleep Duration'].value_counts()"
   ]
  },
  {
   "cell_type": "code",
   "execution_count": null,
   "metadata": {},
   "outputs": [],
   "source": [
    "lt_5 = ['2-3 hours', '3-4 hours', '1-2 hours', '4-5 hours', 'than 5 hours']\n",
    "to8s = ['8 hours', '40-45 hours', '55-66 hours', 'Moderate', '6-7 hours', '45']\n",
    "gt_8 = ['10-11 hours']"
   ]
  },
  {
   "cell_type": "code",
   "execution_count": null,
   "metadata": {},
   "outputs": [],
   "source": [
    "student_tr.loc[student_tr['Sleep Duration'].isin(lt_5), 'Sleep Duration'] = 'Less than 5 hours'\n",
    "student_tr.loc[student_tr['Sleep Duration'].isin(to8s), 'Sleep Duration'] = '7-8 hours'\n",
    "student_tr.loc[student_tr['Sleep Duration'].isin(gt_8), 'Sleep Duration'] = 'More than 8 hours'"
   ]
  },
  {
   "cell_type": "code",
   "execution_count": null,
   "metadata": {},
   "outputs": [],
   "source": [
    "student_tr['Sleep Duration'].unique()"
   ]
  },
  {
   "cell_type": "code",
   "execution_count": null,
   "metadata": {},
   "outputs": [],
   "source": [
    "student_tr.groupby('Sleep Duration').Depression.value_counts(normalize=True).unstack()"
   ]
  },
  {
   "cell_type": "code",
   "execution_count": null,
   "metadata": {},
   "outputs": [],
   "source": [
    "depression_vs_sleep = student_tr.groupby('Sleep Duration').Depression.value_counts().unstack()\n",
    "sleep = depression_vs_sleep.index\n",
    "n = len(sleep)\n",
    "disim_matrix = [[0 for i in range(n)] for j in range(n)]\n",
    "\n",
    "for i in range(0, n):\n",
    "    for j in range(i, n):\n",
    "        table = [\n",
    "            depression_vs_sleep.loc[sleep[i]],\n",
    "            depression_vs_sleep.loc[sleep[j]]\n",
    "        ]\n",
    "        _, p_val, _, _ = chi2_contingency(table)\n",
    "        disim_matrix[i][j] = disim_matrix[j][i] = 1-p_val \n",
    "\n",
    "link_matrix = linkage(disim_matrix, method='ward')\n",
    "_ = dendrogram(link_matrix, labels=sleep, leaf_rotation=90)\n",
    "plt.axhline(y=1, color='coral', linestyle='--')"
   ]
  },
  {
   "cell_type": "code",
   "execution_count": null,
   "metadata": {},
   "outputs": [],
   "source": [
    "student_tr['Sleep Duration'] = student_tr['Sleep Duration'].astype('category')"
   ]
  },
  {
   "cell_type": "code",
   "execution_count": null,
   "metadata": {},
   "outputs": [],
   "source": [
    "student_te['Sleep Duration'].unique()"
   ]
  },
  {
   "cell_type": "code",
   "execution_count": null,
   "metadata": {},
   "outputs": [],
   "source": [
    "lt_5 = ['1-6 hours', '4-5 hours', '2-3 hours']\n",
    "gt_8 = ['60-65 hours', '8-9 hours', '9-6 hours']\n",
    "to_8 = '6-7 hours'\n",
    "\n",
    "student_te.loc[student_te['Sleep Duration'].isin(lt_5), 'Sleep Duration'] = 'Less than 5 hours'\n",
    "student_te.loc[student_te['Sleep Duration'].isin(gt_8), 'Sleep Duration'] = 'More than 8 hours'\n",
    "student_te.loc[student_te['Sleep Duration']==to_8, 'Sleep Duration'] = '7-8 hours'"
   ]
  },
  {
   "cell_type": "code",
   "execution_count": null,
   "metadata": {},
   "outputs": [],
   "source": [
    "student_te['Sleep Duration'].value_counts()"
   ]
  },
  {
   "cell_type": "code",
   "execution_count": null,
   "metadata": {},
   "outputs": [],
   "source": [
    "student_te['Sleep Duration'] = student_te['Sleep Duration'].astype('category')"
   ]
  },
  {
   "cell_type": "code",
   "execution_count": null,
   "metadata": {},
   "outputs": [],
   "source": [
    "student_tr.info()"
   ]
  },
  {
   "cell_type": "markdown",
   "metadata": {},
   "source": [
    "## Student: Dietary Habits"
   ]
  },
  {
   "cell_type": "code",
   "execution_count": null,
   "metadata": {},
   "outputs": [],
   "source": [
    "student_tr['Dietary Habits'].unique()"
   ]
  },
  {
   "cell_type": "code",
   "execution_count": null,
   "metadata": {},
   "outputs": [],
   "source": [
    "normalize = ['Healthy', 'Moderate', 'Unhealthy']\n",
    "mode = student_tr['Dietary Habits'].mode()[0]\n",
    "\n",
    "student_tr.loc[~student_tr['Dietary Habits'].isin(normalize), 'Dietary Habits'] = mode"
   ]
  },
  {
   "cell_type": "code",
   "execution_count": null,
   "metadata": {},
   "outputs": [],
   "source": [
    "mode = student_te['Dietary Habits'].mode()[0]\n",
    "student_te.loc[~student_te['Dietary Habits'].isin(normalize), 'Dietary Habits'] = mode"
   ]
  },
  {
   "cell_type": "code",
   "execution_count": null,
   "metadata": {},
   "outputs": [],
   "source": [
    "student_tr.groupby('Dietary Habits').Depression.value_counts(normalize=True).unstack()"
   ]
  },
  {
   "cell_type": "code",
   "execution_count": null,
   "metadata": {},
   "outputs": [],
   "source": [
    "depression_vs_diet = student_tr.groupby('Dietary Habits').Depression.value_counts().unstack()\n",
    "\n",
    "print(chi2_contingency(depression_vs_diet.loc['Healthy'], depression_vs_diet.loc['Unhealthy']))\n",
    "print(chi2_contingency(depression_vs_diet.loc['Moderate'], depression_vs_diet.loc['Healthy']))\n",
    "print(chi2_contingency(depression_vs_diet.loc['Moderate'], depression_vs_diet.loc['Unhealthy']))"
   ]
  },
  {
   "cell_type": "code",
   "execution_count": null,
   "metadata": {},
   "outputs": [],
   "source": [
    "student_tr.drop(columns='Dietary Habits', inplace=True)\n",
    "student_te.drop(columns = 'Dietary Habits', inplace=True)"
   ]
  },
  {
   "cell_type": "code",
   "execution_count": null,
   "metadata": {},
   "outputs": [],
   "source": [
    "student_tr.info()"
   ]
  },
  {
   "cell_type": "markdown",
   "metadata": {},
   "source": [
    "## Student: Degree"
   ]
  },
  {
   "cell_type": "code",
   "execution_count": null,
   "metadata": {},
   "outputs": [],
   "source": [
    "student_tr.drop(columns = 'Degree', inplace=True)\n",
    "student_te.drop(columns = 'Degree', inplace=True)"
   ]
  },
  {
   "cell_type": "markdown",
   "metadata": {},
   "source": [
    "## Student: Suicide Thoughts"
   ]
  },
  {
   "cell_type": "code",
   "execution_count": null,
   "metadata": {},
   "outputs": [],
   "source": [
    "student_tr['Have you ever had suicidal thoughts ?'].unique()"
   ]
  },
  {
   "cell_type": "code",
   "execution_count": null,
   "metadata": {},
   "outputs": [],
   "source": [
    "student_te['Have you ever had suicidal thoughts ?'].unique()"
   ]
  },
  {
   "cell_type": "code",
   "execution_count": null,
   "metadata": {},
   "outputs": [],
   "source": [
    "student_tr['Have you ever had suicidal thoughts ?'] = student_tr['Have you ever had suicidal thoughts ?'].map({'No': False, 'Yes': True})\n",
    "student_te['Have you ever had suicidal thoughts ?'] = student_te['Have you ever had suicidal thoughts ?'].map({'No': False, 'Yes': True})"
   ]
  },
  {
   "cell_type": "markdown",
   "metadata": {},
   "source": [
    "## Student Train: Study Hours"
   ]
  },
  {
   "cell_type": "code",
   "execution_count": null,
   "metadata": {},
   "outputs": [],
   "source": [
    "dep_vs_s_hr = student_tr.groupby('Study Hours').Depression.value_counts(normalize=True).unstack()"
   ]
  },
  {
   "cell_type": "code",
   "execution_count": null,
   "metadata": {},
   "outputs": [],
   "source": [
    "dep_vs_s_hr.plot(kind='bar')"
   ]
  },
  {
   "cell_type": "code",
   "execution_count": null,
   "metadata": {},
   "outputs": [],
   "source": [
    "depression_vs_s_hr = student_tr.groupby('Study Hours').Depression.value_counts().unstack()\n",
    "s_hr = depression_vs_s_hr.index\n",
    "n = len(s_hr)\n",
    "disim_matrix = [[0 for i in range(n)] for j in range(n)]\n",
    "\n",
    "for i in range(0, n):\n",
    "    for j in range(i, n):\n",
    "        table = [\n",
    "            depression_vs_s_hr.loc[s_hr[i]],\n",
    "            depression_vs_s_hr.loc[s_hr[j]]\n",
    "        ]\n",
    "        _, p_val, _, _ = chi2_contingency(table)\n",
    "        disim_matrix[i][j] = disim_matrix[j][i] = 1-p_val \n",
    "\n",
    "link_matrix = linkage(disim_matrix, method='ward')\n",
    "_ = dendrogram(link_matrix, labels=s_hr, leaf_rotation=90)\n",
    "plt.axhline(y=1, color='coral', linestyle='--')"
   ]
  },
  {
   "cell_type": "markdown",
   "metadata": {},
   "source": [
    "for some reason, 11 and 12 should be treated into one category 7 and 9 should be another"
   ]
  },
  {
   "cell_type": "code",
   "execution_count": null,
   "metadata": {},
   "outputs": [],
   "source": [
    "student_tr.loc[student_tr['Study Hours'].isin([11, 12]), 'Study Hours'] = 'timezone 1'\n",
    "student_tr.loc[student_tr['Study Hours'].isin([7, 9]), 'Study Hours'] = 'timezone 2'\n",
    "\n",
    "student_tr['Study Hours'] = student_tr['Study Hours'].astype('category')"
   ]
  },
  {
   "cell_type": "code",
   "execution_count": null,
   "metadata": {},
   "outputs": [],
   "source": [
    "student_te.loc[student_te['Study Hours'].isin([11, 12]), 'Study Hours'] = 'timezone 1'\n",
    "student_te.loc[student_te['Study Hours'].isin([7, 9]), 'Study Hours'] = 'timezone 2'\n",
    "\n",
    "student_te['Study Hours'] = student_te['Study Hours'].astype('category')"
   ]
  },
  {
   "cell_type": "markdown",
   "metadata": {},
   "source": [
    "## Student: Financial Stress"
   ]
  },
  {
   "cell_type": "code",
   "execution_count": null,
   "metadata": {},
   "outputs": [],
   "source": [
    "student_tr['Financial Stress'].unique()"
   ]
  },
  {
   "cell_type": "code",
   "execution_count": null,
   "metadata": {},
   "outputs": [],
   "source": [
    "mode = student_tr['Financial Stress'].mode()[0]\n",
    "student_tr['Financial Stress'].fillna(mode, inplace=True)"
   ]
  },
  {
   "cell_type": "code",
   "execution_count": null,
   "metadata": {},
   "outputs": [],
   "source": [
    "mode = student_te['Financial Stress'].mode()[0]\n",
    "student_te['Financial Stress'].fillna(mode, inplace=True)"
   ]
  },
  {
   "cell_type": "code",
   "execution_count": null,
   "metadata": {},
   "outputs": [],
   "source": [
    "dep_vs_finan = student_tr.groupby('Financial Stress').Depression.value_counts().unstack()"
   ]
  },
  {
   "cell_type": "code",
   "execution_count": null,
   "metadata": {},
   "outputs": [],
   "source": [
    "dep_vs_finan"
   ]
  },
  {
   "cell_type": "code",
   "execution_count": null,
   "metadata": {},
   "outputs": [],
   "source": [
    "dep_vs_finan.plot(kind='bar')"
   ]
  },
  {
   "cell_type": "code",
   "execution_count": null,
   "metadata": {},
   "outputs": [],
   "source": [
    "student_tr['Financial Stress'] = student_tr['Financial Stress'].astype('category')\n",
    "student_te['Financial Stress'] = student_te['Financial Stress'].astype('category')"
   ]
  },
  {
   "cell_type": "markdown",
   "metadata": {},
   "source": [
    "## Student: Family History"
   ]
  },
  {
   "cell_type": "code",
   "execution_count": null,
   "metadata": {},
   "outputs": [],
   "source": [
    "student_tr['Family History of Mental Illness'].unique()"
   ]
  },
  {
   "cell_type": "code",
   "execution_count": null,
   "metadata": {},
   "outputs": [],
   "source": [
    "student_te['Family History of Mental Illness'].unique()"
   ]
  },
  {
   "cell_type": "code",
   "execution_count": null,
   "metadata": {},
   "outputs": [],
   "source": [
    "student_tr['Family History of Mental Illness'] = student_tr['Family History of Mental Illness'].map({'No': False, 'Yes': True})\n",
    "student_te['Family History of Mental Illness'] = student_te['Family History of Mental Illness'].map({'No': False, 'Yes': True})"
   ]
  },
  {
   "cell_type": "markdown",
   "metadata": {},
   "source": [
    "## Student: Summary"
   ]
  },
  {
   "cell_type": "code",
   "execution_count": null,
   "metadata": {},
   "outputs": [],
   "source": [
    "student_tr.info()"
   ]
  },
  {
   "cell_type": "code",
   "execution_count": null,
   "metadata": {},
   "outputs": [],
   "source": [
    "student_te.info()"
   ]
  },
  {
   "cell_type": "code",
   "execution_count": null,
   "metadata": {},
   "outputs": [],
   "source": [
    "student_tr = pd.get_dummies(student_tr)\n",
    "student_te = pd.get_dummies(student_te)"
   ]
  },
  {
   "cell_type": "markdown",
   "metadata": {},
   "source": [
    "# Student: Baseline model"
   ]
  },
  {
   "cell_type": "code",
   "execution_count": null,
   "metadata": {},
   "outputs": [],
   "source": [
    "y = student_tr.pop('Depression')\n",
    "\n"
   ]
  },
  {
   "cell_type": "code",
   "execution_count": null,
   "metadata": {},
   "outputs": [],
   "source": [
    "model_reg_s = LogisticRegression(max_iter=1000)\n",
    "scores = cross_val_score(model_reg_s, student_tr, y, cv=10)"
   ]
  },
  {
   "cell_type": "code",
   "execution_count": null,
   "metadata": {},
   "outputs": [],
   "source": [
    "scores"
   ]
  },
  {
   "cell_type": "markdown",
   "metadata": {},
   "source": [
    "That's not very satisfying...but let's wrap up our work for now"
   ]
  },
  {
   "cell_type": "code",
   "execution_count": null,
   "metadata": {},
   "outputs": [],
   "source": [
    "student_id = student_te.pop('id')"
   ]
  },
  {
   "cell_type": "code",
   "execution_count": null,
   "metadata": {},
   "outputs": [],
   "source": [
    "model_reg_s.fit(student_tr, y)\n",
    "student_pred = model_reg_s.predict(student_te)"
   ]
  },
  {
   "cell_type": "code",
   "execution_count": null,
   "metadata": {},
   "outputs": [],
   "source": [
    "result = pd.DataFrame(result)"
   ]
  },
  {
   "cell_type": "code",
   "execution_count": null,
   "metadata": {},
   "outputs": [],
   "source": [
    "student_result = pd.DataFrame({'id': student_id, 'Depression': student_pred})\n",
    "\n",
    "temporal_result = pd.concat([result, student_result])\n",
    "\n",
    "temporal_result = temporal_result.sort_values(by='id').reset_index(drop=True)"
   ]
  },
  {
   "cell_type": "code",
   "execution_count": null,
   "metadata": {},
   "outputs": [],
   "source": [
    "temporal_result.head()"
   ]
  },
  {
   "cell_type": "code",
   "execution_count": null,
   "metadata": {},
   "outputs": [],
   "source": [
    "temporal_result.to_csv('temp_submission.csv', index=False)"
   ]
  },
  {
   "cell_type": "code",
   "execution_count": null,
   "metadata": {},
   "outputs": [],
   "source": []
  }
 ],
 "metadata": {
  "kernelspec": {
   "display_name": "Python 3",
   "language": "python",
   "name": "python3"
  },
  "language_info": {
   "codemirror_mode": {
    "name": "ipython",
    "version": 3
   },
   "file_extension": ".py",
   "mimetype": "text/x-python",
   "name": "python",
   "nbconvert_exporter": "python",
   "pygments_lexer": "ipython3",
   "version": "3.10.11"
  },
  "orig_nbformat": 4
 },
 "nbformat": 4,
 "nbformat_minor": 2
}
